{
 "cells": [
  {
   "cell_type": "markdown",
   "metadata": {},
   "source": [
    "#### Exercise 1 - Class Inheritance"
   ]
  },
  {
   "cell_type": "markdown",
   "metadata": {},
   "source": [
    "Create an Employee class that sets an employee's first name, last name, job title, salary, and email. The Employee class should have a class attribute for the raise amount set to 5% (1.05). Create a method that will apply the raise to an employee's salary."
   ]
  },
  {
   "cell_type": "code",
   "execution_count": 13,
   "metadata": {},
   "outputs": [],
   "source": [
    "# Write the Employee Parent Class Here\n",
    "class Employee:\n",
    "    raise_amount = 1.05\n",
    "    \n",
    "    def __init__(self, first, last, title, salary):\n",
    "        self.first = first.title()\n",
    "        self.last = last.title()\n",
    "        self.title = title\n",
    "        self.salary = salary\n",
    "        self.email = first.lower() + last[0].lower() + '@EMPCO.com'\n",
    "        \n",
    "    def get_pay_stub(self): # Function inside of the class AKA method\n",
    "        amount = round(self.salary/24, 2)\n",
    "        print(f\"\"\"\n",
    "        Pay to the Order of: {self.first} {self.last}\n",
    "        Amount: ${amount}\n",
    "        \"\"\")\n",
    "    \n",
    "    def change_last_name(self, new_last_name):\n",
    "        # Modify the last_name attribute on the employee instance with the new last name\n",
    "        self.last_name = new_last_name.title()\n",
    "        # Modify the email address with updated last name\n",
    "        self.email = self.first.lower() + new_last_name[0].lower() + '@coolcompany.com'\n",
    "        \n",
    "    def apply_raise(self):\n",
    "        self.salary = round(self.salary * Employee.raise_amount)\n",
    "        print(f\"Congrats {self.first}, you have received a raise and your new salary is ${self.salary}\")\n"
   ]
  },
  {
   "cell_type": "markdown",
   "metadata": {},
   "source": [
    "Create two more classes that inherit from the Employee class. One for Sales and one for Development. Both of these classes will have the same attributes as the Employee.<br>\n",
    "- For the Sales employees, add a phone number attribute on instantiation using the super method. \n",
    "- Create a method on the Sales class that will \"Send a Follow Up Email\". It should take in a customer name and \"send\" aka print a formatted email \"Dear *customer*, Thank you for your interest in our product. Please let me know if you have any questions. My email is *email* or my phone number is *phone number*. Thanks, *full name*\"\n",
    "- Create a method on the Development class called code that will print out \"*full name* is writing code\"."
   ]
  },
  {
   "cell_type": "code",
   "execution_count": 14,
   "metadata": {},
   "outputs": [],
   "source": [
    "# Write the Sales child Class Here\n",
    "class Sales(Employee):\n",
    "    def __init__(self, first, last, title, salary, p_number):\n",
    "        super().__init__(first, last, title, salary)\n",
    "        self.p_number = p_number\n",
    "    def follow_up(self, customer_name):\n",
    "        print(f\"Dear {customer_name}, \\n\\nThank you for your interest in our product. Please let me know if you have any questions. \\n\\nMy email is {self.email} \\n\\nMy phone number is {self.p_number} \\n\\nThanks, \\n    {self.first} {self.last} \\n\\n{self.title}\")"
   ]
  },
  {
   "cell_type": "code",
   "execution_count": 15,
   "metadata": {},
   "outputs": [],
   "source": [
    "# Write the Development child Class Here\n",
    "class Development(Employee):\n",
    "    def __init__(self, first, last, title, salary,):  \n",
    "        super().__init__(first, last, title, salary)\n",
    "    def code(self,):\n",
    "        print(f\"\\n{self.first} {self.last} is writing code.\")"
   ]
  },
  {
   "cell_type": "markdown",
   "metadata": {},
   "source": [
    "- Create an instance of a Sales Employee with a salary of $50,000.\n",
    "- Send follow up emails to \"Mike O'Neil\" and \"Hannah Stern\"\n",
    "- Give the employee a raise and print the salary"
   ]
  },
  {
   "cell_type": "code",
   "execution_count": 16,
   "metadata": {},
   "outputs": [],
   "source": [
    "# Create the instance\n",
    "emp_1 = Sales('Billy', 'Joe', 'Sales Department Representative', 50000, '928-123-1234')"
   ]
  },
  {
   "cell_type": "code",
   "execution_count": 17,
   "metadata": {},
   "outputs": [
    {
     "name": "stdout",
     "output_type": "stream",
     "text": [
      "Dear Mike O'Neil, \n",
      "\n",
      "Thank you for your interest in our product. Please let me know if you have any questions. \n",
      "\n",
      "My email is billyj@EMPCO.com \n",
      "\n",
      "My phone number is 928-123-1234 \n",
      "\n",
      "Thanks, \n",
      "    Billy Joe \n",
      "\n",
      "Sales Department Representative\n"
     ]
    }
   ],
   "source": [
    "# Send follow up to Mike \n",
    "emp_1.follow_up(\"Mike O'Neil\")"
   ]
  },
  {
   "cell_type": "code",
   "execution_count": 18,
   "metadata": {},
   "outputs": [
    {
     "name": "stdout",
     "output_type": "stream",
     "text": [
      "Dear Hannah Stern, \n",
      "\n",
      "Thank you for your interest in our product. Please let me know if you have any questions. \n",
      "\n",
      "My email is billyj@EMPCO.com \n",
      "\n",
      "My phone number is 928-123-1234 \n",
      "\n",
      "Thanks, \n",
      "    Billy Joe \n",
      "\n",
      "Sales Department Representative\n"
     ]
    }
   ],
   "source": [
    "# Send follow up to Hannah\n",
    "emp_1.follow_up(\"Hannah Stern\")"
   ]
  },
  {
   "cell_type": "code",
   "execution_count": 19,
   "metadata": {},
   "outputs": [
    {
     "name": "stdout",
     "output_type": "stream",
     "text": [
      "Congrats Billy, you have received a raise and your new salary is $52500\n"
     ]
    }
   ],
   "source": [
    "# Give the sales employee a raise\n",
    "emp_1.apply_raise()"
   ]
  },
  {
   "cell_type": "markdown",
   "metadata": {},
   "source": [
    "- Create an instance of a Development Employee with a salary of $100,000\n",
    "- Write some code with this employee\n",
    "- Give the employee a raise and print the salary"
   ]
  },
  {
   "cell_type": "code",
   "execution_count": 20,
   "metadata": {},
   "outputs": [],
   "source": [
    "# Create the instance\n",
    "emp_2 = Development('Abby', 'Anderson', 'development', 100000)"
   ]
  },
  {
   "cell_type": "code",
   "execution_count": 21,
   "metadata": {},
   "outputs": [
    {
     "name": "stdout",
     "output_type": "stream",
     "text": [
      "\n",
      "Abby Anderson is writing code.\n"
     ]
    }
   ],
   "source": [
    "# Write some code (call code method)\n",
    "emp_2.code()"
   ]
  },
  {
   "cell_type": "code",
   "execution_count": 22,
   "metadata": {},
   "outputs": [
    {
     "name": "stdout",
     "output_type": "stream",
     "text": [
      "Congrats Abby, you have received a raise and your new salary is $105000\n"
     ]
    }
   ],
   "source": [
    "# Give the dev employee a raise\n",
    "emp_2.apply_raise()"
   ]
  },
  {
   "cell_type": "markdown",
   "metadata": {},
   "source": [
    "#### Exercise 2 - Importing Modules"
   ]
  },
  {
   "cell_type": "markdown",
   "metadata": {},
   "source": [
    "In VS Code, create a module titled `geometry` and add two functions in there. One that will calculate the area of a circle given a radius. The second will find the hypotenuse of a right angle given the two sides. Import the module or the functions from the module and use it to find the answers to the below questions"
   ]
  },
  {
   "cell_type": "markdown",
   "metadata": {},
   "source": [
    "What is the area of a circle with a radius of 7cm?"
   ]
  },
  {
   "cell_type": "code",
   "execution_count": 24,
   "metadata": {},
   "outputs": [
    {
     "name": "stdout",
     "output_type": "stream",
     "text": [
      "153.94\n"
     ]
    }
   ],
   "source": [
    "# ~153.94\n",
    "import geometry\n",
    "\n",
    "circle_radius = 7\n",
    "circle_area = geometry.circle_area(circle_radius)\n",
    "print(f\"{circle_area:.2f}\")"
   ]
  },
  {
   "cell_type": "markdown",
   "metadata": {},
   "source": [
    "What is the hypotenuse of a right angle with sides of 3in and 4in?"
   ]
  },
  {
   "cell_type": "code",
   "execution_count": 25,
   "metadata": {},
   "outputs": [
    {
     "name": "stdout",
     "output_type": "stream",
     "text": [
      "5\n"
     ]
    }
   ],
   "source": [
    "# 5 inches\n",
    "import geometry\n",
    "\n",
    "side1 = 3\n",
    "side2 = 4\n",
    "hypo = geometry.hypotenuse(side1, side2)\n",
    "\n",
    "print(int(hypo))"
   ]
  }
 ],
 "metadata": {
  "kernelspec": {
   "display_name": "Python 3 (ipykernel)",
   "language": "python",
   "name": "python3"
  },
  "language_info": {
   "codemirror_mode": {
    "name": "ipython",
    "version": 3
   },
   "file_extension": ".py",
   "mimetype": "text/x-python",
   "name": "python",
   "nbconvert_exporter": "python",
   "pygments_lexer": "ipython3",
   "version": "3.12.2"
  }
 },
 "nbformat": 4,
 "nbformat_minor": 4
}
